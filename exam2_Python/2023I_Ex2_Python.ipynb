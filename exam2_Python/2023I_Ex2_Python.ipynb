{
 "cells": [
  {
   "attachments": {},
   "cell_type": "markdown",
   "metadata": {
    "id": "CEZHzeOFsfj6"
   },
   "source": [
    "<img src=\"https://upload.wikimedia.org/wikipedia/commons/d/de/Logotipo_Ikiam.png\" width=600 height=300 />\n",
    "\n",
    "# EXAMEN PARCIAL PYTHON\n",
    "    \n",
    "\n",
    "## GBI6 - BIOINFORMÁTICA\n",
    "\n",
    "**Apellidos, Nombres** \n",
    "<font color='blue'>Carlos Francisco Palacios Almeida</font>\n",
    "\n",
    "**01-07-2023**"
   ]
  },
  {
   "attachments": {},
   "cell_type": "markdown",
   "metadata": {
    "id": "tGwhY7HlsfkC"
   },
   "source": [
    "## Ejercicio 0.1 [0.5 puntos]\n",
    "Realice cambios al cuaderno de jupyter: \n",
    "- Agregue el logo de la Universidad\n",
    "- Coloque sus datos personales \n",
    "- Use el terminal para crear las carpetas `results` y `data`.\n",
    "- Use el terminal y mueva `gstm.txt` que tiene un listado de accesiones de glutathione transferase a la carpeta `data`.\n"
   ]
  },
  {
   "attachments": {},
   "cell_type": "markdown",
   "metadata": {
    "id": "zXz2VQ92sfkE"
   },
   "source": [
    "## Ejercicio 1 [4.0 puntos]\n",
    "\n",
    "Cargue el módulo `popsimulate`, luego: \n",
    "\n",
    "1.1. explique lo que hace cada línea de la función `build_population`, simule un ejemplo y explique el resultado. \n",
    "\n",
    "1.2. explique lo que hace cada línea de la función `compute_frequencies`, simule un ejemplo y explique el resultado. \n",
    "\n",
    "1.3. explique lo que hace cada línea de la función `reproduce_population`, simule un ejemplo y explique el resultado. \n",
    "\n",
    "1.4. explique lo que hace cada línea de la función `simulate_drift`, simule un ejemplo y explique el resultado. "
   ]
  },
  {
   "cell_type": "code",
   "execution_count": 22,
   "metadata": {},
   "outputs": [
    {
     "name": "stdout",
     "output_type": "stream",
     "text": [
      "[('A', 'a'), ('a', 'a'), ('a', 'a'), ('a', 'a'), ('a', 'A')]\n",
      "{'AA': 0, 'aa': 3, 'Aa': 1, 'aA': 1}\n",
      "[('a', 'a'), ('a', 'A'), ('a', 'A'), ('a', 'a'), ('a', 'a')]\n",
      "An allele reached fixation at generation 342\n",
      "The genotype counts are\n",
      "{'AA': 0, 'aa': 75, 'Aa': 0, 'aA': 0}\n",
      "Generaciones Totales: 342\n",
      "Conteo final de genotipos fue de: {'AA': 0, 'aa': 75, 'Aa': 0, 'aA': 0}\n"
     ]
    }
   ],
   "source": [
    "# Escriba aquí su código para el ejercicio 1\n",
    "# Funcion 1 #\n",
    "import popsimulate\n",
    "population=popsimulate.build_population(5, 0.25)\n",
    "print(population)\n",
    "#La función build_population con parámetros (N) y (p), se usa para generar individuos con alelos representados por las variables (allele1 y allele2)\n",
    "#La prescencia de alelos \"a\" o \"A\", se da por la generación de números aleatorios y contrastados de la probabilidad.\n",
    "#import popsimulate\n",
    "#popsimulate.build_population(5, 0.25)\n",
    "\n",
    "# Función 2 #\n",
    "import popsimulate\n",
    "Frequencies= popsimulate.compute_frequencies(population)\n",
    "print(Frequencies)\n",
    "#La función compute_frequencies mediante la funcion count lo que se hace es realizar un conteo de la frecuencia en el que un \n",
    "#conjunto de alelos estan en una lista tipo tupla.\n",
    "\n",
    "# Función 3 #\n",
    "import popsimulate\n",
    "newgeneration=popsimulate.reproduce_population(population)\n",
    "print(newgeneration)\n",
    "#La función reproduce_population, genera una nueva lista \"nueva generación\", y que esta va a ser generada a partir de una población inicial (population)\n",
    "\n",
    "## Función 4\n",
    "\n",
    "import popsimulate\n",
    "num_generations, genotype_counts = popsimulate.simulate_drift(75, 0.50)\n",
    "print(\"Generaciones Totales:\", num_generations)\n",
    "print(\"Conteo final de genotipos fue de:\", genotype_counts)\n",
    "#Mediante la función simulate_drift, podemos obtener la fijación de un alelo, además de un conteo de cuantas generaciones tuvieron que pasar hasta obtener esta fijación deseada\n",
    "#que la podemos observar en (N).\n"
   ]
  },
  {
   "attachments": {},
   "cell_type": "markdown",
   "metadata": {
    "id": "Hs7dXkwxsfkG"
   },
   "source": [
    "## Ejercicio 2 [5.0 puntos]\n",
    "\n",
    "Cree el modulo `glutransferase.py` y genere las siguientes funciones:\n",
    "\n",
    "2.1. `source` que se conecte al `NCBI` y `Nucleotide` para extraer el nombre del organismo fuente y que cuente la frecuencia de cada especie. Guarde el resultado en `results/source.csv`\n",
    "\n",
    "2.2. `sequences` que se conecte al `NCBI` y `Nucleotide` para extraer la secuencia de ADN, que se realice la traducción y separación de péptidos. Asegurarse que los péptidos empiezan en metionina. Luego calcule `molecular weight` e `instability index`. Genere un `joinplot` utilizando los valores de peso molecular e índice de estabilidad. Edite color, tamaño y tipo de puntos, asimismo etiquete adecuadamente el título y los ejes. Guarde los resultados en `results/glupeptides.csv` y `results/glupeptides.png`.\n",
    "\n",
    "**No escriba las funciones en este cuaderno de jupyter**\n",
    "\n",
    "2.3. Use la lista de accesiones en `data/gstm.txt`, cargue el módulo `glutransferase` y ejecute las dos funciones. "
   ]
  },
  {
   "cell_type": "code",
   "execution_count": 3,
   "metadata": {},
   "outputs": [
    {
     "name": "stdout",
     "output_type": "stream",
     "text": [
      "{'Arabidopsis thaliana': 1}\n",
      "Source organism: Arabidopsis thaliana (thale cress)\n"
     ]
    }
   ],
   "source": [
    "# Escriba aquí su código para el ejercicio 2\n",
    "#Ejercicio 2.1#\n",
    "import glutransferase\n",
    "glutransferase.source(\"NC_003076.8\")"
   ]
  },
  {
   "cell_type": "code",
   "execution_count": 2,
   "metadata": {},
   "outputs": [
    {
     "ename": "UndefinedSequenceError",
     "evalue": "Sequence content is undefined",
     "output_type": "error",
     "traceback": [
      "\u001b[0;31m---------------------------------------------------------------------------\u001b[0m",
      "\u001b[0;31mUndefinedSequenceError\u001b[0m                    Traceback (most recent call last)",
      "Cell \u001b[0;32mIn[2], line 3\u001b[0m\n\u001b[1;32m      1\u001b[0m \u001b[39m#Ejercicio 2.2#\u001b[39;00m\n\u001b[1;32m      2\u001b[0m \u001b[39mimport\u001b[39;00m \u001b[39mglutransferase\u001b[39;00m\n\u001b[0;32m----> 3\u001b[0m glutransferase\u001b[39m.\u001b[39;49msequences(\u001b[39m\"\u001b[39;49m\u001b[39mNC_003076.8\u001b[39;49m\u001b[39m\"\u001b[39;49m)\n",
      "File \u001b[0;32m/workspaces/2023I_gbi6_exam2/exam2_Python/glutransferase.py:52\u001b[0m, in \u001b[0;36msequences\u001b[0;34m(id)\u001b[0m\n\u001b[1;32m     50\u001b[0m \u001b[39m# Traducción y separación de péptidos\u001b[39;00m\n\u001b[1;32m     51\u001b[0m protein_sequence \u001b[39m=\u001b[39m dna_sequence\u001b[39m.\u001b[39mtranslate()\n\u001b[0;32m---> 52\u001b[0m peptides \u001b[39m=\u001b[39m protein_sequence\u001b[39m.\u001b[39;49msplit(\u001b[39m\"\u001b[39;49m\u001b[39mM\u001b[39;49m\u001b[39m\"\u001b[39;49m)\n\u001b[1;32m     54\u001b[0m \u001b[39m# Cálculo del peso molecular e índice de estabilidad de cada péptido\u001b[39;00m\n\u001b[1;32m     55\u001b[0m peptide_data \u001b[39m=\u001b[39m []\n",
      "File \u001b[0;32m~/.python/current/lib/python3.10/site-packages/Bio/Seq.py:1024\u001b[0m, in \u001b[0;36m_SeqAbstractBaseClass.split\u001b[0;34m(self, sep, maxsplit)\u001b[0m\n\u001b[1;32m   1022\u001b[0m \u001b[39melif\u001b[39;00m \u001b[39misinstance\u001b[39m(sep, \u001b[39mstr\u001b[39m):\n\u001b[1;32m   1023\u001b[0m     sep \u001b[39m=\u001b[39m sep\u001b[39m.\u001b[39mencode(\u001b[39m\"\u001b[39m\u001b[39mASCII\u001b[39m\u001b[39m\"\u001b[39m)\n\u001b[0;32m-> 1024\u001b[0m \u001b[39mreturn\u001b[39;00m [Seq(part) \u001b[39mfor\u001b[39;00m part \u001b[39min\u001b[39;00m \u001b[39mself\u001b[39;49m\u001b[39m.\u001b[39;49m_data\u001b[39m.\u001b[39;49msplit(sep, maxsplit)]\n",
      "File \u001b[0;32m~/.python/current/lib/python3.10/site-packages/Bio/Seq.py:239\u001b[0m, in \u001b[0;36mSequenceDataAbstractBaseClass.split\u001b[0;34m(self, sep, maxsplit)\u001b[0m\n\u001b[1;32m    228\u001b[0m \u001b[39mdef\u001b[39;00m \u001b[39msplit\u001b[39m(\u001b[39mself\u001b[39m, sep\u001b[39m=\u001b[39m\u001b[39mNone\u001b[39;00m, maxsplit\u001b[39m=\u001b[39m\u001b[39m-\u001b[39m\u001b[39m1\u001b[39m):\n\u001b[1;32m    229\u001b[0m \u001b[39m    \u001b[39m\u001b[39m\"\"\"Return a list of the sections in the data, using sep as the delimiter.\u001b[39;00m\n\u001b[1;32m    230\u001b[0m \n\u001b[1;32m    231\u001b[0m \u001b[39m    sep\u001b[39;00m\n\u001b[0;32m   (...)\u001b[0m\n\u001b[1;32m    237\u001b[0m \u001b[39m      -1 (the default value) means no limit.\u001b[39;00m\n\u001b[1;32m    238\u001b[0m \u001b[39m    \"\"\"\u001b[39;00m\n\u001b[0;32m--> 239\u001b[0m     \u001b[39mreturn\u001b[39;00m \u001b[39mbytes\u001b[39;49m(\u001b[39mself\u001b[39;49m)\u001b[39m.\u001b[39msplit(sep, maxsplit)\n",
      "File \u001b[0;32m~/.python/current/lib/python3.10/site-packages/Bio/Seq.py:2322\u001b[0m, in \u001b[0;36m_UndefinedSequenceData.__bytes__\u001b[0;34m(self)\u001b[0m\n\u001b[1;32m   2321\u001b[0m \u001b[39mdef\u001b[39;00m \u001b[39m__bytes__\u001b[39m(\u001b[39mself\u001b[39m):\n\u001b[0;32m-> 2322\u001b[0m     \u001b[39mraise\u001b[39;00m UndefinedSequenceError(\u001b[39m\"\u001b[39m\u001b[39mSequence content is undefined\u001b[39m\u001b[39m\"\u001b[39m)\n",
      "\u001b[0;31mUndefinedSequenceError\u001b[0m: Sequence content is undefined"
     ]
    }
   ],
   "source": [
    "#Ejercicio 2.2#\n",
    "import glutransferase\n",
    "glutransferase.sequences(\"NC_003076.8\")"
   ]
  },
  {
   "attachments": {},
   "cell_type": "markdown",
   "metadata": {
    "id": "-MaHCuV8sfkP"
   },
   "source": [
    "## Ejercicio 0.2 [0.5 puntos]\n",
    "\n",
    "\n",
    "1. Cree un archivo ```Readme.md``` que debe tener lo siguiente:\n",
    "- Datos personales\n",
    "- Características del computador\n",
    "- Versión de Python/Anaconda y de cada uno de los módulos/paquetes y utilizados\n",
    "- Explicación de la data utilizada\n",
    "\n",
    "2. Realice al menos 1 control de la versión (commits) por cada ejercicio (del 1 al 5), con un mensaje que inicie como: \n",
    "\n",
    "```sh \n",
    "Carlitos Alimaña ha realizado el ejercicio 1.1  \n",
    "```\n",
    "```sh \n",
    "Carlitos Alimaña ha realizado el ejercicio 2.1\n",
    "```\n",
    "```sh \n",
    "...\n",
    "```\n"
   ]
  }
 ],
 "metadata": {
  "colab": {
   "provenance": []
  },
  "kernelspec": {
   "display_name": "Python 3 (ipykernel)",
   "language": "python",
   "name": "python3"
  },
  "language_info": {
   "codemirror_mode": {
    "name": "ipython",
    "version": 3
   },
   "file_extension": ".py",
   "mimetype": "text/x-python",
   "name": "python",
   "nbconvert_exporter": "python",
   "pygments_lexer": "ipython3",
   "version": "3.10.8"
  },
  "latex_envs": {
   "LaTeX_envs_menu_present": true,
   "autoclose": false,
   "autocomplete": true,
   "bibliofile": "biblio.bib",
   "cite_by": "apalike",
   "current_citInitial": 1,
   "eqLabelWithNumbers": true,
   "eqNumInitial": 1,
   "hotkeys": {
    "equation": "Ctrl-E",
    "itemize": "Ctrl-I"
   },
   "labels_anchors": false,
   "latex_user_defs": false,
   "report_style_numbering": false,
   "user_envs_cfg": false
  },
  "toc": {
   "base_numbering": 1,
   "nav_menu": {},
   "number_sections": true,
   "sideBar": false,
   "skip_h1_title": false,
   "title_cell": "Table of Contents",
   "title_sidebar": "Contents",
   "toc_cell": false,
   "toc_position": {
    "height": "1152.67px",
    "left": "41px",
    "top": "110px",
    "width": "253.458px"
   },
   "toc_section_display": true,
   "toc_window_display": false
  },
  "varInspector": {
   "cols": {
    "lenName": 16,
    "lenType": 16,
    "lenVar": 40
   },
   "kernels_config": {
    "python": {
     "delete_cmd_postfix": "",
     "delete_cmd_prefix": "del ",
     "library": "var_list.py",
     "varRefreshCmd": "print(var_dic_list())"
    },
    "r": {
     "delete_cmd_postfix": ") ",
     "delete_cmd_prefix": "rm(",
     "library": "var_list.r",
     "varRefreshCmd": "cat(var_dic_list()) "
    }
   },
   "types_to_exclude": [
    "module",
    "function",
    "builtin_function_or_method",
    "instance",
    "_Feature"
   ],
   "window_display": false
  }
 },
 "nbformat": 4,
 "nbformat_minor": 1
}
